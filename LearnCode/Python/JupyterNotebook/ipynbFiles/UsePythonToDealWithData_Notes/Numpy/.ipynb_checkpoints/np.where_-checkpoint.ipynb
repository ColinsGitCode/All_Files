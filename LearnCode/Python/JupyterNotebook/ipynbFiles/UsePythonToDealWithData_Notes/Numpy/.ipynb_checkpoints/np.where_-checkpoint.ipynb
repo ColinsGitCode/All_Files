{
 "cells": [
  {
   "cell_type": "code",
   "execution_count": 1,
   "metadata": {
    "collapsed": true
   },
   "outputs": [],
   "source": [
    "#常用的引用\n",
    "import numpy as np\n",
    "%matplotlib inline\n",
    "import matplotlib.pyplot as plt"
   ]
  },
  {
   "cell_type": "markdown",
   "metadata": {},
   "source": [
    "# 1, np.where()函数"
   ]
  },
  {
   "cell_type": "markdown",
   "metadata": {},
   "source": [
    "**numpy.where()**函数是三元表达式\" x if condition else y \"的矢量化版本，常用于根据一个数组，创造另一个数组"
   ]
  },
  {
   "cell_type": "code",
   "execution_count": 3,
   "metadata": {},
   "outputs": [
    {
     "data": {
      "text/plain": [
       "array([ 1.1,  2.2,  1.3,  1.4,  2.5])"
      ]
     },
     "execution_count": 3,
     "metadata": {},
     "output_type": "execute_result"
    }
   ],
   "source": [
    "xarr = np.array([1.1,1.2,1.3,1.4,1.5])\n",
    "yarr = np.array([2.1,2.2,2.3,2.4,2.5])\n",
    "cond = np.array([True,False,True,True,False])\n",
    "# 根据cond中的值选取xarr和yarr的值，cond为True的时候，选取xarr的值，否则选取yarr的值\n",
    "# 一般做法：\n",
    "result = [(x if c else y)\n",
    "          for x,y,c in zip(xarr,yarr,cond)]\n",
    "# 缺点很多： 不适合大数组处理，速度慢\n",
    "#           无法用于多维数组\n",
    "# 使用np.where(c,x,y)函数的话则非常好用简单  \" x if c else y\" 即\"c\"为真则\"x\",否则\"y\"\n",
    "# x,y 不必是数组，也可以标量\n",
    "Result = np.where(cond,xarr,yarr)\n",
    "Result"
   ]
  },
  {
   "cell_type": "markdown",
   "metadata": {},
   "source": [
    "举例Example One"
   ]
  },
  {
   "cell_type": "code",
   "execution_count": 7,
   "metadata": {},
   "outputs": [
    {
     "data": {
      "text/plain": [
       "array([[  1.21265252e-01,   1.42421529e+00,  -1.37074259e+00,\n",
       "          2.29391209e-01],\n",
       "       [ -7.25309990e-02,   1.25715067e+00,   1.45051009e+00,\n",
       "         -1.46317671e-01],\n",
       "       [  9.27385738e-01,  -5.04205413e-01,   1.24212110e-01,\n",
       "         -9.34763718e-01],\n",
       "       [ -8.05582484e-01,   4.33180258e-01,   3.62510568e-01,\n",
       "          2.73386247e-04]])"
      ]
     },
     "execution_count": 7,
     "metadata": {},
     "output_type": "execute_result"
    }
   ],
   "source": [
    "# 举例\n",
    "# 一个由随机数据生成的矩阵，\n",
    "arr = np.random.randn(4,4)\n",
    "arr"
   ]
  },
  {
   "cell_type": "code",
   "execution_count": 8,
   "metadata": {},
   "outputs": [
    {
     "data": {
      "text/plain": [
       "array([[ 2,  2, -2,  2],\n",
       "       [-2,  2,  2, -2],\n",
       "       [ 2, -2,  2, -2],\n",
       "       [-2,  2,  2,  2]])"
      ]
     },
     "execution_count": 8,
     "metadata": {},
     "output_type": "execute_result"
    }
   ],
   "source": [
    "# 希望将所有的正值替换为2，复制替换为-2\n",
    "np.where(arr>0,2,-2)"
   ]
  },
  {
   "cell_type": "code",
   "execution_count": 9,
   "metadata": {},
   "outputs": [
    {
     "data": {
      "text/plain": [
       "array([[ 2.        ,  2.        , -1.37074259,  2.        ],\n",
       "       [-0.072531  ,  2.        ,  2.        , -0.14631767],\n",
       "       [ 2.        , -0.50420541,  2.        , -0.93476372],\n",
       "       [-0.80558248,  2.        ,  2.        ,  2.        ]])"
      ]
     },
     "execution_count": 9,
     "metadata": {},
     "output_type": "execute_result"
    }
   ],
   "source": [
    "# 正值为2，其余不变\n",
    "np.where(arr>0,2,arr)"
   ]
  },
  {
   "cell_type": "markdown",
   "metadata": {},
   "source": [
    "**np.where()函数可以嵌套使用**\n",
    "\n"
   ]
  },
  {
   "cell_type": "markdown",
   "metadata": {},
   "source": [
    "# 2，数学和统计方法\n"
   ]
  },
  {
   "cell_type": "code",
   "execution_count": null,
   "metadata": {
    "collapsed": true
   },
   "outputs": [],
   "source": []
  }
 ],
 "metadata": {
  "kernelspec": {
   "display_name": "Python 2",
   "language": "python",
   "name": "python2"
  },
  "language_info": {
   "codemirror_mode": {
    "name": "ipython",
    "version": 2
   },
   "file_extension": ".py",
   "mimetype": "text/x-python",
   "name": "python",
   "nbconvert_exporter": "python",
   "pygments_lexer": "ipython2",
   "version": "2.7.12"
  }
 },
 "nbformat": 4,
 "nbformat_minor": 2
}
