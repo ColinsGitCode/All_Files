{
 "cells": [
  {
   "cell_type": "code",
   "execution_count": 1,
   "metadata": {
    "collapsed": true
   },
   "outputs": [],
   "source": [
    "#常用的引用\n",
    "import numpy as np\n",
    "%matplotlib inline\n",
    "import matplotlib.pyplot as plt"
   ]
  },
  {
   "cell_type": "markdown",
   "metadata": {},
   "source": [
    "# 1, 排序"
   ]
  },
  {
   "cell_type": "markdown",
   "metadata": {},
   "source": [
    "可以利用sort()函数进行排序"
   ]
  },
  {
   "cell_type": "code",
   "execution_count": 2,
   "metadata": {},
   "outputs": [
    {
     "data": {
      "text/plain": [
       "array([-1.42109456,  1.01480698, -0.13986772, -1.01568747,  0.41277385,\n",
       "        1.65916414,  0.52352953,  0.11518253])"
      ]
     },
     "execution_count": 2,
     "metadata": {},
     "output_type": "execute_result"
    }
   ],
   "source": [
    "arr = np.random.randn(8)\n",
    "arr"
   ]
  },
  {
   "cell_type": "code",
   "execution_count": 3,
   "metadata": {},
   "outputs": [
    {
     "data": {
      "text/plain": [
       "array([-1.42109456, -1.01568747, -0.13986772,  0.11518253,  0.41277385,\n",
       "        0.52352953,  1.01480698,  1.65916414])"
      ]
     },
     "execution_count": 3,
     "metadata": {},
     "output_type": "execute_result"
    }
   ],
   "source": [
    "arr.sort()\n",
    "arr"
   ]
  },
  {
   "cell_type": "markdown",
   "metadata": {},
   "source": [
    "多维数组可以只在某些轴上进行排序，只需将轴编号传给sort()函数即可"
   ]
  },
  {
   "cell_type": "code",
   "execution_count": 5,
   "metadata": {},
   "outputs": [
    {
     "data": {
      "text/plain": [
       "array([[-1.1816849 ,  0.12486149, -0.71064956],\n",
       "       [ 0.37217399, -0.38193906, -1.86712739],\n",
       "       [-0.51117016,  1.70547585,  1.33932957],\n",
       "       [-1.01218447,  0.3593429 , -0.05230448],\n",
       "       [-0.14205022,  0.51243038, -1.53011323]])"
      ]
     },
     "execution_count": 5,
     "metadata": {},
     "output_type": "execute_result"
    }
   ],
   "source": [
    "Arr = np.random.randn(5,3)\n",
    "Arr"
   ]
  },
  {
   "cell_type": "code",
   "execution_count": 7,
   "metadata": {},
   "outputs": [
    {
     "data": {
      "text/plain": [
       "array([[-1.1816849 , -0.71064956,  0.12486149],\n",
       "       [-1.86712739, -0.38193906,  0.37217399],\n",
       "       [-0.51117016,  1.33932957,  1.70547585],\n",
       "       [-1.01218447, -0.05230448,  0.3593429 ],\n",
       "       [-1.53011323, -0.14205022,  0.51243038]])"
      ]
     },
     "execution_count": 7,
     "metadata": {},
     "output_type": "execute_result"
    }
   ],
   "source": [
    "Arr.sort(1) # 只在axis = 1 的轴向上进行排序，即对每一行进行排序\n",
    "Arr"
   ]
  },
  {
   "cell_type": "markdown",
   "metadata": {},
   "source": [
    "**顶级方法np.sort()返回的是数组的已排序副本，而就地排序则会修改数组本身**"
   ]
  },
  {
   "cell_type": "markdown",
   "metadata": {},
   "source": [
    "**实例**\n",
    "\n",
    "计算数组的分位数： 即先对数组进行排序，然后选取特定位置，程序实例如下"
   ]
  },
  {
   "cell_type": "code",
   "execution_count": 8,
   "metadata": {},
   "outputs": [
    {
     "data": {
      "text/plain": [
       "-1.6663797733559449"
      ]
     },
     "execution_count": 8,
     "metadata": {},
     "output_type": "execute_result"
    }
   ],
   "source": [
    "# 取得一个数组的 “5%分位数”\n",
    "large_arr = np.random.randn(1000)\n",
    "large_arr.sort()\n",
    "large_arr[int(0.05 * len(large_arr))]"
   ]
  },
  {
   "cell_type": "markdown",
   "metadata": {},
   "source": [
    "# 2，唯一化以及其他的集合逻辑"
   ]
  },
  {
   "cell_type": "markdown",
   "metadata": {},
   "source": [
    "2.1 针对一维ndarray的基本集合运算\n",
    "\n",
    "np.unique() 函数，用于找出数组中的唯一值并返回已排序的结果,**即唯一显示数组中存在的值，去除重复的项**\n"
   ]
  },
  {
   "cell_type": "code",
   "execution_count": 9,
   "metadata": {},
   "outputs": [
    {
     "data": {
      "text/plain": [
       "array(['Bob', 'Joe', 'Will'], \n",
       "      dtype='|S4')"
      ]
     },
     "execution_count": 9,
     "metadata": {},
     "output_type": "execute_result"
    }
   ],
   "source": [
    "names = np.array(['Bob','Joe','Will','Bob','Will','Joe','Joe'])\n",
    "ints = np.array([3,3,3,2,2,1,1,4,4])\n",
    "np.unique(names)"
   ]
  },
  {
   "cell_type": "code",
   "execution_count": 10,
   "metadata": {},
   "outputs": [
    {
     "data": {
      "text/plain": [
       "array([1, 2, 3, 4])"
      ]
     },
     "execution_count": 10,
     "metadata": {},
     "output_type": "execute_result"
    }
   ],
   "source": [
    "np.unique(ints)"
   ]
  },
  {
   "cell_type": "markdown",
   "metadata": {},
   "source": [
    "np.in1d()用于测试一个数组中值在另一个数组中的成员资格，返回一个布尔型数组"
   ]
  },
  {
   "cell_type": "code",
   "execution_count": 11,
   "metadata": {},
   "outputs": [
    {
     "data": {
      "text/plain": [
       "array([ True, False, False,  True,  True, False,  True], dtype=bool)"
      ]
     },
     "execution_count": 11,
     "metadata": {},
     "output_type": "execute_result"
    }
   ],
   "source": [
    "values = np.array([6,0,0,3,2,5,6])\n",
    "# 测试values中的值在数组【2,3,6】中是否存在\n",
    "np.in1d(values,[2,3,6])"
   ]
  },
  {
   "cell_type": "markdown",
   "metadata": {},
   "source": [
    "**数组的集合运算**\n",
    "\n",
    "<img src=\"https://github.com/ColinsGitCode/All_Files/blob/master/LearnCode/Python/JupyterNotebook/ipynbFiles/Materials/Array_Sets_Func.jpg?raw=true\" />\n",
    "\n"
   ]
  },
  {
   "cell_type": "code",
   "execution_count": null,
   "metadata": {
    "collapsed": true
   },
   "outputs": [],
   "source": []
  }
 ],
 "metadata": {
  "kernelspec": {
   "display_name": "Python 2",
   "language": "python",
   "name": "python2"
  },
  "language_info": {
   "codemirror_mode": {
    "name": "ipython",
    "version": 2
   },
   "file_extension": ".py",
   "mimetype": "text/x-python",
   "name": "python",
   "nbconvert_exporter": "python",
   "pygments_lexer": "ipython2",
   "version": "2.7.12"
  }
 },
 "nbformat": 4,
 "nbformat_minor": 2
}
