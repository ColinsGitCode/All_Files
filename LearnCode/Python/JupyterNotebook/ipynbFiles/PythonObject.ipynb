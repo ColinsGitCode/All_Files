{
 "cells": [
  {
   "cell_type": "markdown",
   "metadata": {},
   "source": [
    "# 面向对象的编程\n",
    "\n",
    "## 1，Python类的基本语法\n",
    "\n",
    "### 1.1，类与实例"
   ]
  },
  {
   "cell_type": "code",
   "execution_count": 1,
   "metadata": {},
   "outputs": [
    {
     "ename": "NameError",
     "evalue": "name 'bases' is not defined",
     "output_type": "error",
     "traceback": [
      "\u001b[0;31m---------------------------------------------------------------------------\u001b[0m",
      "\u001b[0;31mNameError\u001b[0m                                 Traceback (most recent call last)",
      "\u001b[0;32m<ipython-input-1-90a246f8d3cb>\u001b[0m in \u001b[0;36m<module>\u001b[0;34m()\u001b[0m\n\u001b[0;32m----> 1\u001b[0;31m \u001b[0;32mclass\u001b[0m \u001b[0mMyNewObjectType\u001b[0m\u001b[0;34m(\u001b[0m\u001b[0mbases\u001b[0m\u001b[0;34m)\u001b[0m\u001b[0;34m:\u001b[0m\u001b[0;34m\u001b[0m\u001b[0m\n\u001b[0m\u001b[1;32m      2\u001b[0m     \u001b[0;31m# 新式类和经典类声明的最大不同在于，所有新式类必须继承至少一个父类\u001b[0m\u001b[0;34m\u001b[0m\u001b[0;34m\u001b[0m\u001b[0m\n\u001b[1;32m      3\u001b[0m     \u001b[0;31m# 参数bases可以是一个（单继承）或多个(多继承)用于继承的父类\u001b[0m\u001b[0;34m\u001b[0m\u001b[0;34m\u001b[0m\u001b[0m\n\u001b[1;32m      4\u001b[0m     \u001b[0;34m'define MyNewObjectType class'\u001b[0m\u001b[0;34m\u001b[0m\u001b[0m\n\u001b[1;32m      5\u001b[0m     \u001b[0mclass_suite\u001b[0m\u001b[0;34m\u001b[0m\u001b[0m\n",
      "\u001b[0;31mNameError\u001b[0m: name 'bases' is not defined"
     ]
    }
   ],
   "source": [
    "class MyNewObjectType(bases):\n",
    "    # 新式类和经典类声明的最大不同在于，所有新式类必须继承至少一个父类\n",
    "    # 参数bases可以是一个（单继承）或多个(多继承)用于继承的父类 \n",
    "    'define MyNewObjectType class'\n",
    "    class_suite\n",
    "    \n",
    "# object是所有类之母，如果你的类没有继承任何父类，object将作为其父类\n",
    "# object位于所有类继承结构的最上层\n",
    "# 经典类 classic object\n",
    "class MyNewObjectType:\n",
    "    'define MyNewObjectType classic class'\n",
    "    class_suite\n",
    "    \n",
    "# 创建一个实例，即实例化\n",
    "myFirstObject = MyNewObjectType()\n"
   ]
  },
  {
   "cell_type": "code",
   "execution_count": 3,
   "metadata": {},
   "outputs": [
    {
     "name": "stdout",
     "output_type": "stream",
     "text": [
      "20\n"
     ]
    }
   ],
   "source": [
    "# Example:  类仅作为一个命名空间来使用，最简单的类\n",
    "class MyData():\n",
    "    pass\n",
    "mathObj = MyData()\n",
    "mathObj.x = 5\n",
    "mathObj.y = 4\n",
    "print mathObj.x * mathObj.y\n",
    "# 这里mathObj.x和mathObj.y都是实例属性\n",
    "# 即类的构造中没有这些属性，这些属性是mathObj实例特有的属性\n",
    "# 这些属性是动态的，不需要在构造器中，或者其他任何地方预先声明或赋值"
   ]
  },
  {
   "cell_type": "markdown",
   "metadata": {},
   "source": [
    "### 1.2，方法\n",
    "\n",
    "方法就是给类添加的功能。Python中，方法定义在类的定义中，但只能被实例调用。\n",
    "\n",
    "调用一个方法的最终途径：**在类中定义-->创建实例-->调用这个实例方法**"
   ]
  },
  {
   "cell_type": "code",
   "execution_count": 4,
   "metadata": {},
   "outputs": [
    {
     "name": "stdout",
     "output_type": "stream",
     "text": [
      "You invoked printFoo()!\n"
     ]
    }
   ],
   "source": [
    "class MyDataWithMethod(object):\n",
    "    def printFoo(self):\n",
    "        print 'You invoked printFoo()!'\n",
    "\n",
    "myObj = MyDataWithMethod()\n",
    "myObj.printFoo()"
   ]
  },
  {
   "cell_type": "code",
   "execution_count": null,
   "metadata": {},
   "outputs": [],
   "source": [
    "# Examples:\n",
    "class AddrBookEntry(object):\n",
    "    'address book entry class'\n",
    "    def _init_(self, nm, ph):\n",
    "        self.name = nm\n",
    "        self.phone = ph\n",
    "        print 'Created instance for:', self.name\n",
    "    def updatePhone(self, newph):\n",
    "        self.phone = newph\n",
    "        print 'Updated phone# for:', self.name\n",
    "        \n",
    "# 创建实例\n",
    "john = AddrBookEntry('John Doe','408-555-1212')\n",
    "jane = AddrBookEntry('Jane Doe','650-555-1221')\n"
   ]
  }
 ],
 "metadata": {
  "kernelspec": {
   "display_name": "Python 2",
   "language": "python",
   "name": "python2"
  },
  "language_info": {
   "codemirror_mode": {
    "name": "ipython",
    "version": 2
   },
   "file_extension": ".py",
   "mimetype": "text/x-python",
   "name": "python",
   "nbconvert_exporter": "python",
   "pygments_lexer": "ipython2",
   "version": "2.7.12"
  }
 },
 "nbformat": 4,
 "nbformat_minor": 2
}
