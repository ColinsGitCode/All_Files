{
 "cells": [
  {
   "cell_type": "markdown",
   "metadata": {},
   "source": [
    "# Reverse Integer"
   ]
  },
  {
   "cell_type": "markdown",
   "metadata": {},
   "source": [
    "## 1, Question \n",
    "\n",
    "Reverse digits of an integer\n",
    "\n",
    "**Example1**: x = 123, return 321\n",
    "\n",
    "**Example2**: x = -123, return -321\n",
    "\n",
    "**Note：** The input is assumed to be a 32-bit signed integer. Your function should **return 0 when the reversed integer overflows**"
   ]
  },
  {
   "cell_type": "markdown",
   "metadata": {},
   "source": [
    "## 2, My Code"
   ]
  },
  {
   "cell_type": "code",
   "execution_count": 1,
   "metadata": {},
   "outputs": [
    {
     "data": {
      "text/plain": [
       "0"
      ]
     },
     "execution_count": 1,
     "metadata": {},
     "output_type": "execute_result"
    }
   ],
   "source": [
    "#class Solution(object):\n",
    "#    def reverse(self, x):\n",
    "        #\"\"\"\n",
    "       #\"\"\"\n",
    "\n",
    "# 检测输入的数字是否溢出\n",
    "def ifOverflow(x):\n",
    "    if isinstance(x,int):\n",
    "        return 1\n",
    "    else:\n",
    "        return 0\n",
    "\n",
    "# int--> str\n",
    "def reverse(x):\n",
    "    if ifOverflow(x)==0 :\n",
    "        return 0\n",
    "    if x<0 :\n",
    "        flag = -1\n",
    "        x = -x\n",
    "    elif x==0:\n",
    "        return 0\n",
    "    else:\n",
    "        flag = 1\n",
    "    intReversed = 0\n",
    "    while(1):\n",
    "        LastInt = x-(x/10)*10\n",
    "        x = x/10\n",
    "        intReversed = intReversed*10 + LastInt\n",
    "        if x/10<=0 :\n",
    "            intReversed = intReversed*10 + x\n",
    "            break\n",
    "    return intReversed*flag\n",
    "\n",
    "y = reverse(456223456223.44)\n",
    "y\n",
    "        \n",
    " "
   ]
  },
  {
   "cell_type": "markdown",
   "metadata": {
    "collapsed": true
   },
   "source": [
    "# Discussions By Others"
   ]
  },
  {
   "cell_type": "markdown",
   "metadata": {},
   "source": [
    "## Golfing in Python"
   ]
  },
  {
   "cell_type": "code",
   "execution_count": 3,
   "metadata": {},
   "outputs": [
    {
     "ename": "TypeError",
     "evalue": "reverse() takes exactly 2 arguments (1 given)",
     "output_type": "error",
     "traceback": [
      "\u001b[0;31m---------------------------------------------------------------------------\u001b[0m",
      "\u001b[0;31mTypeError\u001b[0m                                 Traceback (most recent call last)",
      "\u001b[0;32m<ipython-input-3-1fb5d850fa05>\u001b[0m in \u001b[0;36m<module>\u001b[0;34m()\u001b[0m\n\u001b[1;32m      3\u001b[0m     \u001b[0mr\u001b[0m \u001b[0;34m=\u001b[0m \u001b[0mint\u001b[0m\u001b[0;34m(\u001b[0m\u001b[0;34m`\u001b[0m\u001b[0ms\u001b[0m\u001b[0;34m*\u001b[0m\u001b[0mx\u001b[0m\u001b[0;34m`\u001b[0m\u001b[0;34m[\u001b[0m\u001b[0;34m:\u001b[0m\u001b[0;34m:\u001b[0m\u001b[0;34m-\u001b[0m\u001b[0;36m1\u001b[0m\u001b[0;34m]\u001b[0m\u001b[0;34m)\u001b[0m\u001b[0;34m\u001b[0m\u001b[0m\n\u001b[1;32m      4\u001b[0m     \u001b[0;32mreturn\u001b[0m \u001b[0ms\u001b[0m\u001b[0;34m*\u001b[0m\u001b[0mr\u001b[0m \u001b[0;34m*\u001b[0m \u001b[0;34m(\u001b[0m\u001b[0mr\u001b[0m \u001b[0;34m<\u001b[0m \u001b[0;36m2\u001b[0m\u001b[0;34m**\u001b[0m\u001b[0;36m31\u001b[0m\u001b[0;34m)\u001b[0m\u001b[0;34m\u001b[0m\u001b[0m\n\u001b[0;32m----> 5\u001b[0;31m \u001b[0mreverse\u001b[0m\u001b[0;34m(\u001b[0m\u001b[0;36m12223\u001b[0m\u001b[0;34m)\u001b[0m\u001b[0;34m\u001b[0m\u001b[0m\n\u001b[0m",
      "\u001b[0;31mTypeError\u001b[0m: reverse() takes exactly 2 arguments (1 given)"
     ]
    }
   ],
   "source": [
    "def self Self\n",
    "def reverse(this, x):\n",
    "    s = cmp(x, 0)\n",
    "    r = int(`s*x`[::-1])\n",
    "    return s*r * (r < 2**31)\n",
    "reverse(12223)"
   ]
  },
  {
   "cell_type": "code",
   "execution_count": null,
   "metadata": {
    "collapsed": true
   },
   "outputs": [],
   "source": []
  }
 ],
 "metadata": {
  "kernelspec": {
   "display_name": "Python 2",
   "language": "python",
   "name": "python2"
  },
  "language_info": {
   "codemirror_mode": {
    "name": "ipython",
    "version": 2
   },
   "file_extension": ".py",
   "mimetype": "text/x-python",
   "name": "python",
   "nbconvert_exporter": "python",
   "pygments_lexer": "ipython2",
   "version": "2.7.12"
  }
 },
 "nbformat": 4,
 "nbformat_minor": 2
}
