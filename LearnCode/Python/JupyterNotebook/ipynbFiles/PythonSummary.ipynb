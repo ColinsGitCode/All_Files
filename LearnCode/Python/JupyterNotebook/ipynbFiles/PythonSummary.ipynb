{
 "cells": [
  {
   "cell_type": "markdown",
   "metadata": {},
   "source": [
    "# 1, Python 解释器"
   ]
  },
  {
   "cell_type": "markdown",
   "metadata": {},
   "source": [
    "程序员一般使用Ipython交互解释器，通过\"%run\"等命令执行各种方便的操作"
   ]
  },
  {
   "cell_type": "markdown",
   "metadata": {},
   "source": [
    "# 2, 基础知识"
   ]
  },
  {
   "cell_type": "markdown",
   "metadata": {},
   "source": [
    "## 2.1，语言语义\n",
    "\n",
    "Python被称为*“可执行的伪码”*"
   ]
  },
  {
   "cell_type": "markdown",
   "metadata": {},
   "source": [
    "### 2.1.1，缩进，而不是大括号"
   ]
  },
  {
   "cell_type": "code",
   "execution_count": null,
   "metadata": {},
   "outputs": [],
   "source": [
    "# 例：\n",
    "for x in array:\n",
    "    if < pivot:\n",
    "        less.append(x)\n",
    "    else:\n",
    "        greater.append(x)"
   ]
  },
  {
   "cell_type": "markdown",
   "metadata": {},
   "source": [
    "冒号表示一段缩进代码的开始,其后的代码都必须缩进相同的量(一般为4个空格)，直到代码块结束为止,其他语言一般用大括号表示代码块。"
   ]
  },
  {
   "cell_type": "markdown",
   "metadata": {},
   "source": [
    "Python语句的末尾不需要分号，如果一行分割很多语句(一般不推荐)，则可以使用分号"
   ]
  },
  {
   "cell_type": "code",
   "execution_count": 2,
   "metadata": {},
   "outputs": [],
   "source": [
    "# Example\n",
    "a = 5; b = 6; c = 7"
   ]
  },
  {
   "cell_type": "markdown",
   "metadata": {},
   "source": [
    "### 2.1.2，万物皆对象"
   ]
  },
  {
   "cell_type": "markdown",
   "metadata": {},
   "source": [
    "Python具有对象模型一致性，Python解释器中的任何数值，字符串，数据结构，函数，类，模块等都是一个对象，都有与之相关的函数和内部数据，这是Python的一大优势"
   ]
  },
  {
   "cell_type": "markdown",
   "metadata": {},
   "source": [
    "### 2.1.3， 变量和按引用传递\n",
    "\n",
    "在Python中对变量进行赋值的时候，其实是创建等号右侧对象的一个引用。并不是将右侧对象的值复制然后再给到新变量"
   ]
  },
  {
   "cell_type": "code",
   "execution_count": 4,
   "metadata": {},
   "outputs": [
    {
     "data": {
      "text/plain": [
       "[1, 2, 3, 4]"
      ]
     },
     "execution_count": 4,
     "metadata": {},
     "output_type": "execute_result"
    }
   ],
   "source": [
    "# Example\n",
    "a = [1,2,3]\n",
    "b = a # 这个过程并不是[1,2,3]被复制给变量b\n",
    "      # 而是变量a和变量b现在都指向[1,2,3]\n",
    "a.append(4)\n",
    "b\n",
    "# 对变量a的操作同时也是对变量b的操作"
   ]
  },
  {
   "cell_type": "markdown",
   "metadata": {},
   "source": [
    "赋值*assignment*操作也叫绑定*binging*，其实是将一个名称和一个对象绑定到一起，已经赋过值的变量也被称为绑定变量*bound variable*\n",
    "\n",
    "**Python是按引用传递的，当函数进行参数调用的时候，其实传入的是一个引用，没有发生任何复制行为，其他语言可能有引用传递也可能有参数传递，比如c,c++等**"
   ]
  },
  {
   "cell_type": "code",
   "execution_count": 6,
   "metadata": {},
   "outputs": [
    {
     "data": {
      "text/plain": [
       "[1, 2, 3, 4]"
      ]
     },
     "execution_count": 6,
     "metadata": {},
     "output_type": "execute_result"
    }
   ],
   "source": [
    "# Example\n",
    "def append_elements(some_list, element):\n",
    "    some_list.append(element)\n",
    "#\n",
    "# 对象被函数调用，改变了变量的内容\n",
    "data = [1,2,3]\n",
    "append_elements(data,4)\n",
    "data"
   ]
  },
  {
   "cell_type": "markdown",
   "metadata": {},
   "source": [
    "### 2.1.4， 动态引用，强类型\n",
    "\n",
    "Python的变量是没有类型的，可以任意改变变量的类型，**变量其实就是对象在特定命名空间的名称而已，对象的类型信息是保存在自己内部的**\n",
    "\n",
    "**Python还是一种强类型语言，所有对象都有一个特定的类型，不能做其他语言一样的隐式转换**\n",
    "\n",
    "Type()函数可以查看变量的类型\n",
    "\n",
    "isinstance(variable,type)用于判断一个变量是否是某种类型，返回bool值\n"
   ]
  },
  {
   "cell_type": "markdown",
   "metadata": {},
   "source": [
    "### 2.1.5，属性和方法\n",
    "\n",
    "**Python中既有属性*attribute*，也有方法*method*,它们都能通过*obj.attribute_name*这样的形式来调用。**\n",
    "\n",
    "**属性**：存储在该对象内部的其他Python对象\n",
    "\n",
    "**方法**：与该对象有关的能过访问其内部数据的函数"
   ]
  },
  {
   "cell_type": "code",
   "execution_count": 8,
   "metadata": {},
   "outputs": [
    {
     "data": {
      "text/plain": [
       "<function split>"
      ]
     },
     "execution_count": 8,
     "metadata": {},
     "output_type": "execute_result"
    }
   ],
   "source": [
    "# Example\n",
    "var = 'foo'\n",
    "# 查看方法和属性\n",
    "#var.<Tab> ??\n",
    "# 属性很方法还可以利用getattr()通过名称进行访问\n",
    "getattr(var,'split')"
   ]
  },
  {
   "cell_type": "markdown",
   "metadata": {},
   "source": [
    "### 2.1.6，引入（import）\n",
    "\n",
    "在Python中，模块*module*就是一个含有函数和其他变量定义以及从其他*py文件*引入此类东西的.py文件\n",
    "\n",
    "例\n",
    "\n",
    "***import** some_module *\n",
    "\n",
    "***import** some_module **as** some_name*\n",
    "\n",
    "***form** some_module **import** module_parts*\n",
    "\n",
    "***form** some_module **import** module_parts **as** parts_name*"
   ]
  },
  {
   "cell_type": "markdown",
   "metadata": {},
   "source": [
    "### 2.1.7，二元运算符\n",
    "\n",
    "<img src=\"https://github.com/ColinsGitCode/All_Files/blob/master/LearnCode/Python/JupyterNotebook/ipynbFiles/Materials/%E4%BA%8C%E5%85%83%E8%BF%90%E7%AE%97%E7%AC%A6.jpg?raw=true\" />"
   ]
  },
  {
   "cell_type": "markdown",
   "metadata": {},
   "source": [
    "### 2.1.8，严格和懒惰\n",
    "\n",
    "Python是非常严格的语言，几乎在任何时候，计算过程好饿表达式都是立即就职的。有些Python技术(迭代器和生成器等)可以用于延迟计算*lazy evaluation*，在数据密集的应用中，执行负荷非常高的计算时能过发挥作用。"
   ]
  },
  {
   "cell_type": "markdown",
   "metadata": {},
   "source": [
    "### 2.1.9，可变和不可变的对象\n",
    "\n",
    "大部分的Python对象是可变的*mutable*，比如列表，字典，NumPy数组以及大部分用户自定义的类型和类，也就是说它们所包含的对象的值是可以修改的。\n",
    "\n",
    "而其他的如字符串和元组*tuple*则是不可变得*immutable*"
   ]
  },
  {
   "cell_type": "markdown",
   "metadata": {},
   "source": [
    "### 2.1.10，标量类型\n",
    "\n",
    "<img src=\"https://raw.githubusercontent.com/ColinsGitCode/All_Files/e66b45ed0681d7d7c65629a63c2b1bb10b13c9ee/LearnCode/Python/JupyterNotebook/ipynbFiles/Materials/%E6%A0%87%E9%87%8F%E7%B1%BB%E5%9E%8B.jpg\" />"
   ]
  },
  {
   "cell_type": "markdown",
   "metadata": {},
   "source": [
    "**PS**\n",
    "\n",
    "3//2  类型C语言，除不尽就舍弃小数部分。\n",
    "\n",
    "复数的虚部用 j 表示：  cval = 1 + 2j\n",
    "\n",
    "字符串： 'str'，\"str\"，\"\"\" 多行字符串 \"\"\",  字符串是不可变的，要修改字符串就只能创建一个新的字符串， s = str(a): str()函数将其他对象转成字符串， 字符串也可以被当成某种序列类型（列表，元组）等进行处理\n",
    "\n",
    "**s = r'this\\has\\no\\special\\characters'**   在字符串**最左边加上r**，表示字符传中不含有转移字符。\n",
    "\n",
    "**字符串格式化** ： 可以输出各种花式类型\n",
    "\n",
    "类型转换函数：str(), bool(), int(), float()\n",
    "\n",
    "**None类型**：如果一个函数没有显示返回值，则隐式返回None.\n",
    "\n"
   ]
  },
  {
   "cell_type": "markdown",
   "metadata": {},
   "source": [
    "### 2.1.11，日起和时间 （内置datetime模块）"
   ]
  },
  {
   "cell_type": "markdown",
   "metadata": {},
   "source": [
    "**datetime**模块提供了datetime,date以及time等类型"
   ]
  },
  {
   "cell_type": "code",
   "execution_count": 11,
   "metadata": {},
   "outputs": [],
   "source": [
    "from datetime import datetime,date,time\n",
    "dt = datetime(2017,10,13,0,2,22)"
   ]
  },
  {
   "cell_type": "code",
   "execution_count": 14,
   "metadata": {},
   "outputs": [
    {
     "name": "stdout",
     "output_type": "stream",
     "text": [
      "13\n"
     ]
    }
   ],
   "source": [
    "print dt.day"
   ]
  },
  {
   "cell_type": "markdown",
   "metadata": {},
   "source": [
    "详细用法可以自查学习"
   ]
  },
  {
   "cell_type": "markdown",
   "metadata": {},
   "source": [
    "### 2.1.12，控制流\n",
    "\n",
    "**if,elif和else**\n",
    "   \n",
    "<img src=\"https://raw.githubusercontent.com/ColinsGitCode/All_Files/f446ae6e021bc962794619cfd1a9c1ca6a2f2fa8/LearnCode/Python/JupyterNotebook/ipynbFiles/Materials/if%E9%80%89%E6%8B%A9%E8%AF%AD%E5%8F%A5%E5%AE%9E%E4%BE%8B.jpg\"/>"
   ]
  },
  {
   "cell_type": "markdown",
   "metadata": {},
   "source": [
    "**for循环**\n",
    "\n",
    "<img src=\"https://raw.githubusercontent.com/ColinsGitCode/All_Files/d1ca09543359a781402c02c2245eec9cc4153a1d/LearnCode/Python/JupyterNotebook/ipynbFiles/Materials/for%E5%BE%AA%E7%8E%AF.jpg\" />"
   ]
  },
  {
   "cell_type": "markdown",
   "metadata": {},
   "source": [
    "**while循环**\n",
    "\n",
    "<img src=\"https://raw.githubusercontent.com/ColinsGitCode/All_Files/3f9c3b2b41d10744d298af51c71ff0bede80d550/LearnCode/Python/JupyterNotebook/ipynbFiles/Materials/while%E5%BE%AA%E7%8E%AF.jpg\" />"
   ]
  },
  {
   "cell_type": "markdown",
   "metadata": {},
   "source": [
    "**Pass语句**\n",
    "\n",
    "<img src=\"https://raw.githubusercontent.com/ColinsGitCode/All_Files/27683c103e3d27932fab12df580a59dfd01d865f/LearnCode/Python/JupyterNotebook/ipynbFiles/Materials/Pass%E8%AF%AD%E5%8F%A5.jpg\" />"
   ]
  },
  {
   "cell_type": "markdown",
   "metadata": {},
   "source": [
    "### 2.1.13，异常处理\n"
   ]
  },
  {
   "cell_type": "markdown",
   "metadata": {},
   "source": [
    "**try ... except ...**"
   ]
  },
  {
   "cell_type": "code",
   "execution_count": 20,
   "metadata": {},
   "outputs": [
    {
     "name": "stdout",
     "output_type": "stream",
     "text": [
      "something\n",
      "(1, 2)\n"
     ]
    }
   ],
   "source": [
    "var = 'something'\n",
    "# 执行float(var)函数会报错\n",
    "# 定义新的attempt_float(x)函数增加异常处理\n",
    "def attempt_float(x):\n",
    "    try:\n",
    "        return float(x)\n",
    "    # 捕获多个异常（圆括号是必须的）\n",
    "    except(TypeError, ValueError):\n",
    "        return x\n",
    "    \n",
    "tup = (1,2)\n",
    "print attempt_float(var)\n",
    "print attempt_float(tup)"
   ]
  },
  {
   "cell_type": "markdown",
   "metadata": {},
   "source": [
    "如果不想处理任何异常，只是希望有一段代码不管try块代码成功与否都能执行，使用**finally**即可达到这个目的："
   ]
  },
  {
   "cell_type": "code",
   "execution_count": null,
   "metadata": {},
   "outputs": [],
   "source": [
    "f = open(path,'w')\n",
    "\n",
    "try:\n",
    "    write_to_file(f)\n",
    "finally:\n",
    "    f.close()\n",
    "# 文件句柄 f 始终都会被关闭"
   ]
  },
  {
   "cell_type": "markdown",
   "metadata": {},
   "source": [
    "### 2.1.14，range和xrange\n",
    "\n",
    "range()用于产生一组间隔平均的整数,所产生的整数不包括末端值\n",
    "\n",
    "非常长的范围，建议使用xrange(),参数和range一样，但它不会预先产生所有的值，并将它们保存到列表中，而是返回一个用于逐个产生整数的迭代器。\n",
    "\n"
   ]
  },
  {
   "cell_type": "code",
   "execution_count": 21,
   "metadata": {},
   "outputs": [
    {
     "data": {
      "text/plain": [
       "[0, 1, 2, 3, 4, 5, 6, 7, 8, 9]"
      ]
     },
     "execution_count": 21,
     "metadata": {},
     "output_type": "execute_result"
    }
   ],
   "source": [
    "range(10)"
   ]
  },
  {
   "cell_type": "code",
   "execution_count": 22,
   "metadata": {},
   "outputs": [
    {
     "data": {
      "text/plain": [
       "[0, 2, 4, 6, 8, 10, 12, 14, 16, 18]"
      ]
     },
     "execution_count": 22,
     "metadata": {},
     "output_type": "execute_result"
    }
   ],
   "source": [
    "range(0,20,2)\n",
    "# 指定了起始值，结束值以及步长等信息\n"
   ]
  },
  {
   "cell_type": "markdown",
   "metadata": {},
   "source": [
    "### 2.1.15 三元表达式（ternary expression）\n",
    "\n",
    "*Value = ture-expr **if** condition **else** false-expr*"
   ]
  },
  {
   "cell_type": "markdown",
   "metadata": {},
   "source": [
    "## 2.2 数据结构和序列\n",
    "\n",
    "### 2.2.1 元组（tuple）\n",
    "\n",
    "元组是一维的，定长，不可变的对象序列"
   ]
  },
  {
   "cell_type": "code",
   "execution_count": 24,
   "metadata": {},
   "outputs": [
    {
     "data": {
      "text/plain": [
       "(4, 5, 6)"
      ]
     },
     "execution_count": 24,
     "metadata": {},
     "output_type": "execute_result"
    }
   ],
   "source": [
    "# 最简单的创建元组\n",
    "A_tup = 4,5,6\n",
    "A_tup"
   ]
  },
  {
   "cell_type": "code",
   "execution_count": 25,
   "metadata": {},
   "outputs": [
    {
     "data": {
      "text/plain": [
       "((4, 5, 6), (7, 8))"
      ]
     },
     "execution_count": 25,
     "metadata": {},
     "output_type": "execute_result"
    }
   ],
   "source": [
    "# 创建一个元素为元组的复合元组\n",
    "B_tup = (4,5,6),(7,8)\n",
    "B_tup"
   ]
  },
  {
   "cell_type": "markdown",
   "metadata": {},
   "source": [
    "通过调用tuple()函数，任何序列和迭代器都可以被转换成元组：\n"
   ]
  },
  {
   "cell_type": "code",
   "execution_count": 27,
   "metadata": {},
   "outputs": [
    {
     "data": {
      "text/plain": [
       "(1, 2, 3)"
      ]
     },
     "execution_count": 27,
     "metadata": {},
     "output_type": "execute_result"
    }
   ],
   "source": [
    "tuple([1,2,3])"
   ]
  },
  {
   "cell_type": "code",
   "execution_count": 28,
   "metadata": {},
   "outputs": [
    {
     "data": {
      "text/plain": [
       "('s', 't', 'r', 'i', 'n', 'g')"
      ]
     },
     "execution_count": 28,
     "metadata": {},
     "output_type": "execute_result"
    }
   ],
   "source": [
    "tuple('string')"
   ]
  },
  {
   "cell_type": "markdown",
   "metadata": {},
   "source": [
    "元组的元素可以进行索引访问：索引同样从0开始\n"
   ]
  },
  {
   "cell_type": "code",
   "execution_count": 29,
   "metadata": {},
   "outputs": [
    {
     "data": {
      "text/plain": [
       "(7, 8)"
      ]
     },
     "execution_count": 29,
     "metadata": {},
     "output_type": "execute_result"
    }
   ],
   "source": [
    "B_tup[1]"
   ]
  },
  {
   "cell_type": "markdown",
   "metadata": {},
   "source": [
    "**虽然储存在元组中的对象本身是可变的，但是一旦创建完毕，并存放在各个插槽中的对象就不能再被修改了,即元组可以增删元素，但是不能改变元素的值**\n",
    "\n",
    "元组也可通过 + 运算符链接起来一产生更长的元组\n",
    "\n",
    "**元组 * 一个整数 = 相当于连接该元组的整数个副本**\n"
   ]
  },
  {
   "cell_type": "code",
   "execution_count": 31,
   "metadata": {},
   "outputs": [
    {
     "data": {
      "text/plain": [
       "((4, 5, 6), (7, 8), (4, 5, 6), (7, 8), (4, 5, 6), (7, 8))"
      ]
     },
     "execution_count": 31,
     "metadata": {},
     "output_type": "execute_result"
    }
   ],
   "source": [
    "B_tup * 3\n",
    "# 相当于3个B_tup进项连接"
   ]
  },
  {
   "cell_type": "markdown",
   "metadata": {},
   "source": [
    "**元组拆包（unpacking）**\n",
    "\n",
    "如果对元组变量表达式进行赋值，Python就会尝试将等号右侧的值进行拆包"
   ]
  },
  {
   "cell_type": "code",
   "execution_count": 35,
   "metadata": {},
   "outputs": [
    {
     "name": "stdout",
     "output_type": "stream",
     "text": [
      "(4, 5, 6)\n",
      "(7, 8)\n",
      "(4, 5, 6)\n",
      "7\n",
      "8\n"
     ]
    }
   ],
   "source": [
    "# 不能出现超过元组元素个数的变量被复制\n",
    "a,b = B_tup\n",
    "print a\n",
    "print b\n",
    "# 嵌套的元素也可以被拆包\n",
    "c,(e,d) = B_tup\n",
    "print c\n",
    "print e\n",
    "print d"
   ]
  },
  {
   "cell_type": "markdown",
   "metadata": {},
   "source": [
    "***Python编程小技巧***"
   ]
  },
  {
   "cell_type": "code",
   "execution_count": 37,
   "metadata": {},
   "outputs": [
    {
     "name": "stdout",
     "output_type": "stream",
     "text": [
      "2\n",
      "1\n"
     ]
    }
   ],
   "source": [
    "# Python 交换变量\n",
    "aa = 1\n",
    "bb = 2\n",
    "# 快速交换两个变量的值\n",
    "aa,bb = bb,aa\n",
    "print aa\n",
    "print bb"
   ]
  },
  {
   "cell_type": "markdown",
   "metadata": {},
   "source": [
    "**元组方法，count()函数用于计算指定值出现的次数**\n"
   ]
  },
  {
   "cell_type": "code",
   "execution_count": 39,
   "metadata": {},
   "outputs": [
    {
     "data": {
      "text/plain": [
       "4"
      ]
     },
     "execution_count": 39,
     "metadata": {},
     "output_type": "execute_result"
    }
   ],
   "source": [
    "C_tuple = (1,2,2,2,3,4,2)\n",
    "C_tuple.count(2)"
   ]
  },
  {
   "cell_type": "markdown",
   "metadata": {},
   "source": [
    "### 2.2.2 列表（list）\n",
    "\n",
    "列表是变长的，其内容是可以修改的，可以通过**list()函数**创建\n"
   ]
  },
  {
   "cell_type": "markdown",
   "metadata": {},
   "source": []
  }
 ],
 "metadata": {
  "kernelspec": {
   "display_name": "Python 2",
   "language": "python",
   "name": "python2"
  },
  "language_info": {
   "codemirror_mode": {
    "name": "ipython",
    "version": 2
   },
   "file_extension": ".py",
   "mimetype": "text/x-python",
   "name": "python",
   "nbconvert_exporter": "python",
   "pygments_lexer": "ipython2",
   "version": "2.7.12"
  }
 },
 "nbformat": 4,
 "nbformat_minor": 2
}
