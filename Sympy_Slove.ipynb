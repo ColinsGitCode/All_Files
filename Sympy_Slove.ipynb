{
 "cells": [
  {
   "cell_type": "code",
   "execution_count": 8,
   "metadata": {
    "ExecuteTime": {
     "end_time": "2017-12-23T09:14:43.313024Z",
     "start_time": "2017-12-23T09:14:43.300921Z"
    }
   },
   "outputs": [],
   "source": [
    "def getZeroFormula(Str):\n",
    "    Split = Str.split(\"=\")\n",
    "    newStr = Split[0] + \"-(\" + Split[1] + \")\"    \n",
    "\n",
    "\n",
    "\n"
   ]
  },
  {
   "cell_type": "code",
   "execution_count": 32,
   "metadata": {
    "ExecuteTime": {
     "end_time": "2017-12-23T09:45:45.446346Z",
     "start_time": "2017-12-23T09:45:45.420390Z"
    }
   },
   "outputs": [
    {
     "data": {
      "text/plain": [
       "{x: 1/2}"
      ]
     },
     "execution_count": 32,
     "metadata": {},
     "output_type": "execute_result"
    }
   ],
   "source": [
    "from sympy import *\n",
    "STR = \"2*x+x=3-4*x\"\n",
    "NewStr = getZeroFormula(STR)\n",
    "x = Symbol('x')\n",
    "solve([x+x-(3-4*x)],[x])"
   ]
  },
  {
   "cell_type": "code",
   "execution_count": 10,
   "metadata": {
    "ExecuteTime": {
     "end_time": "2017-12-23T09:36:37.002169Z",
     "start_time": "2017-12-23T09:36:36.994202Z"
    },
    "collapsed": true
   },
   "outputs": [],
   "source": [
    "from z3 import *"
   ]
  },
  {
   "cell_type": "code",
   "execution_count": 28,
   "metadata": {
    "ExecuteTime": {
     "end_time": "2017-12-23T09:42:15.578477Z",
     "start_time": "2017-12-23T09:42:15.561076Z"
    }
   },
   "outputs": [
    {
     "ename": "NameError",
     "evalue": "name 'Ints' is not defined",
     "output_type": "error",
     "traceback": [
      "\u001b[0;31m---------------------------------------------------------------------------\u001b[0m",
      "\u001b[0;31mNameError\u001b[0m                                 Traceback (most recent call last)",
      "\u001b[0;32m<ipython-input-28-92bec0573ca2>\u001b[0m in \u001b[0;36m<module>\u001b[0;34m()\u001b[0m\n\u001b[0;32m----> 1\u001b[0;31m \u001b[0mx\u001b[0m \u001b[0;34m=\u001b[0m \u001b[0mInts\u001b[0m\u001b[0;34m(\u001b[0m\u001b[0;34m'x'\u001b[0m\u001b[0;34m)\u001b[0m\u001b[0;34m\u001b[0m\u001b[0m\n\u001b[0m\u001b[1;32m      2\u001b[0m \u001b[0mSTR\u001b[0m \u001b[0;34m=\u001b[0m \u001b[0;34m\"2*x + x == 5\"\u001b[0m\u001b[0;34m\u001b[0m\u001b[0m\n",
      "\u001b[0;31mNameError\u001b[0m: name 'Ints' is not defined"
     ]
    }
   ],
   "source": [
    "x = Ints('x')\n",
    "STR = \"2*x + x == 5\""
   ]
  },
  {
   "cell_type": "code",
   "execution_count": 21,
   "metadata": {
    "ExecuteTime": {
     "end_time": "2017-12-23T09:39:52.239201Z",
     "start_time": "2017-12-23T09:39:52.230106Z"
    }
   },
   "outputs": [
    {
     "data": {
      "text/plain": [
       "False"
      ]
     },
     "execution_count": 21,
     "metadata": {},
     "output_type": "execute_result"
    }
   ],
   "source": [
    "F = eval(STR)\n",
    "solve(F)"
   ]
  },
  {
   "cell_type": "code",
   "execution_count": null,
   "metadata": {
    "collapsed": true
   },
   "outputs": [],
   "source": []
  }
 ],
 "metadata": {
  "hide_input": false,
  "kernelspec": {
   "display_name": "Python 3",
   "language": "python",
   "name": "python3"
  },
  "language_info": {
   "codemirror_mode": {
    "name": "ipython",
    "version": 3
   },
   "file_extension": ".py",
   "mimetype": "text/x-python",
   "name": "python",
   "nbconvert_exporter": "python",
   "pygments_lexer": "ipython3",
   "version": "3.6.3"
  }
 },
 "nbformat": 4,
 "nbformat_minor": 2
}
