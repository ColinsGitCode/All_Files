{
 "cells": [
  {
   "cell_type": "code",
   "execution_count": null,
   "metadata": {
    "ExecuteTime": {
     "start_time": "2017-12-23T09:49:18.919Z"
    }
   },
   "outputs": [
    {
     "name": "stdout",
     "output_type": "stream",
     "text": [
      "Enter your expression(0 to end):\n",
      "2+3+4\n",
      "list result =  [2, '+', 3, '+', 4]\n",
      "9\n"
     ]
    }
   ],
   "source": [
    "#!/usr/bin/env python  \n",
    "  \n",
    "'expression_cal.py -- cal the expression that you give to me'  \n",
    "  \n",
    "# judgment a char is a operation or not  \n",
    "def is_operation(oper):  \n",
    "    if oper == '+' or oper == '-' or oper == '*' or oper == '/':  \n",
    "        return True  \n",
    "    else:  \n",
    "        return False  \n",
    "  \n",
    "# split expression  \n",
    "def mixed_operation (exp):  \n",
    "    exp_list = list(exp)  \n",
    "    temp = ''  \n",
    "    behavor_list = []  \n",
    "    i = 0  \n",
    "    length = len(exp_list)  \n",
    "    for item in exp_list:  \n",
    "        if is_operation(item):  \n",
    "            behavor_list.append(int(temp))  \n",
    "            behavor_list.append(item)  \n",
    "            temp = ''  \n",
    "        else:  \n",
    "            temp += item  \n",
    "  \n",
    "        if i == length - 1:  \n",
    "            behavor_list.append(int(temp))  \n",
    "            break;  \n",
    "  \n",
    "        i += 1  \n",
    "  \n",
    "    return behavor_list  \n",
    "  \n",
    "# cal a o b  \n",
    "def get_aob(a, o, b):  \n",
    "    if o == '+':  \n",
    "        return a + b  \n",
    "    elif o == '-':  \n",
    "        return a - b  \n",
    "    elif o == '*':  \n",
    "        return a * b  \n",
    "    elif o == '/':  \n",
    "        return a / b  \n",
    "  \n",
    "# Calculation op1 and op2('*' and '/' or '+' and '-')  \n",
    "def cal_op1_op2(exp_list, op1, op2):  \n",
    "    if len(exp_list) == 1:  \n",
    "        return exp_list  \n",
    "          \n",
    "    i = 0  \n",
    "    has_op = False  \n",
    "    for i in range(2, len(exp_list), 2):  \n",
    "        a = exp_list[i - 2]  \n",
    "        o = exp_list[i - 1]  \n",
    "        b = exp_list[i]  \n",
    "        if o == op1 or o == op2:  \n",
    "            has_op = True  \n",
    "            exp_list[i - 2] = get_aob(a, o, b)  \n",
    "            del exp_list[i]  \n",
    "            del exp_list[i - 1]  \n",
    "            break  \n",
    "  \n",
    "    if has_op == False:  \n",
    "        return exp_list  \n",
    "  \n",
    "    return cal_op1_op2(exp_list, op1, op2)  \n",
    "  \n",
    "# cal exp  \n",
    "def cal_exp(exp_list):  \n",
    "    exp_list = cal_op1_op2(exp_list, '*', '/')  \n",
    "    exp_list = cal_op1_op2(exp_list, '+', '-')  \n",
    "      \n",
    "    return exp_list[0]  \n",
    "  \n",
    "while True:  \n",
    "    expre = raw_input('Enter your expression(0 to end):\\n')  \n",
    "    if expre == '0':  \n",
    "        break  \n",
    "  \n",
    "    result = mixed_operation(expre)  \n",
    "    print 'list result = ',  \n",
    "    print result  \n",
    "    print cal_exp(result)  \n",
    "  \n",
    "print 'END'"
   ]
  },
  {
   "cell_type": "code",
   "execution_count": null,
   "metadata": {
    "collapsed": true
   },
   "outputs": [],
   "source": []
  }
 ],
 "metadata": {
  "hide_input": false,
  "kernelspec": {
   "display_name": "Python 2",
   "language": "python",
   "name": "python2"
  },
  "language_info": {
   "codemirror_mode": {
    "name": "ipython",
    "version": 2
   },
   "file_extension": ".py",
   "mimetype": "text/x-python",
   "name": "python",
   "nbconvert_exporter": "python",
   "pygments_lexer": "ipython2",
   "version": "2.7.14"
  }
 },
 "nbformat": 4,
 "nbformat_minor": 2
}
